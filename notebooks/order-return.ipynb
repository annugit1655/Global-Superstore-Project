{
 "cells": [
  {
   "cell_type": "markdown",
   "id": "6fa17220",
   "metadata": {},
   "source": [
    "# Project : Product Return Prediction"
   ]
  },
  {
   "cell_type": "markdown",
   "id": "d00f410d",
   "metadata": {},
   "source": [
    "## Introduction\n",
    "In this project, we focus on understanding the reasons behind product returns and predict whether a product will be returned. Our primary goal is to provide actionable insights to retailers rather than achieving the maximum model accuracy. By identifying patterns and factors that leads to returns, we aim to help businesses to reduce return rates and associated costs."
   ]
  },
  {
   "cell_type": "markdown",
   "id": "e58b52fd",
   "metadata": {},
   "source": [
    "## Problem Statement\n",
    "To Predict the likelihood of a product being returned based on various features such as product category, price and customer demographics. The goal of this project is to provide insights into the factors that contribute to product returns, enabling reatilers to make informed decisions and improve their return policies and customer experience."
   ]
  },
  {
   "cell_type": "markdown",
   "id": "0ee1b751",
   "metadata": {},
   "source": [
    "## Business Problem\n",
    "In the retail industry, product returns are a significant challenge, impacting profitablity and customer satisfaction. Understanding the reasons behind returns can help retailers improve their products, services and customer experience.     "
   ]
  },
  {
   "cell_type": "markdown",
   "id": "6b43ac60",
   "metadata": {},
   "source": [
    "## Mapping the Real-World Problem to a Machine Learning Problem\n",
    "**It is a machine learning binary classification problem where we predict whether a order will be returned or not. By analyzing various order features, its aim to help businesses reduce return rates and improve customer satisfaction.**"
   ]
  },
  {
   "cell_type": "markdown",
   "id": "a74f3067",
   "metadata": {},
   "source": [
    "### Import Libraries"
   ]
  },
  {
   "cell_type": "code",
   "execution_count": 1,
   "metadata": {},
   "outputs": [],
   "source": [
    "import pandas as pd\n",
    "import numpy as np\n",
    "import seaborn as sns\n",
    "import matplotlib.pyplot as plt \n",
    "import sklearn\n",
    "from scipy import stats\n",
    "import kaggle\n",
    "from pathlib import Path\n",
    "import sidetable"
   ]
  },
  {
   "cell_type": "markdown",
   "id": "4d923228",
   "metadata": {},
   "source": [
    "### Dispaly settings"
   ]
  },
  {
   "cell_type": "code",
   "execution_count": 2,
   "id": "76e50829",
   "metadata": {},
   "outputs": [],
   "source": [
    "pd.set_option('display.max_columns', None)\n",
    "pd.set_option('display.max_rows', None)\n",
    "#pd.set_option('display.max_info_rows', 1000)\n",
    "pd.set_option('display.float_format', '{:.2f}'.format)\n",
    "import warnings\n",
    "warnings.filterwarnings('ignore')\n"
   ]
  },
  {
   "cell_type": "markdown",
   "id": "100489a5",
   "metadata": {},
   "source": [
    "### Data Ingestion and Exploration"
   ]
  },
  {
   "cell_type": "code",
   "execution_count": 3,
   "id": "f6ce50ea",
   "metadata": {},
   "outputs": [
    {
     "name": "stdout",
     "output_type": "stream",
     "text": [
      "['.gitkeep', 'Global Superstore.xls']\n"
     ]
    }
   ],
   "source": [
    "path = Path.cwd()\n",
    "paths = path.parent.joinpath('data','raw')\n",
    "\n",
    "file = []\n",
    "for p in paths.glob('*'):\n",
    "    file.append(p.name)\n",
    "\n",
    "print(file)"
   ]
  },
  {
   "cell_type": "code",
   "execution_count": 4,
   "id": "9acf1aea",
   "metadata": {},
   "outputs": [
    {
     "data": {
      "text/plain": [
       "dict_keys(['Orders', 'Returns', 'People'])"
      ]
     },
     "execution_count": 4,
     "metadata": {},
     "output_type": "execute_result"
    }
   ],
   "source": [
    "#find all excel files name in .xls sheet\n",
    "df = pd.read_excel(paths/'Global Superstore.xls',sheet_name=None)\n",
    "df.keys()"
   ]
  },
  {
   "cell_type": "code",
   "execution_count": 5,
   "id": "a8e68fe3",
   "metadata": {},
   "outputs": [
    {
     "data": {
      "text/html": [
       "<div>\n",
       "<style scoped>\n",
       "    .dataframe tbody tr th:only-of-type {\n",
       "        vertical-align: middle;\n",
       "    }\n",
       "\n",
       "    .dataframe tbody tr th {\n",
       "        vertical-align: top;\n",
       "    }\n",
       "\n",
       "    .dataframe thead th {\n",
       "        text-align: right;\n",
       "    }\n",
       "</style>\n",
       "<table border=\"1\" class=\"dataframe\">\n",
       "  <thead>\n",
       "    <tr style=\"text-align: right;\">\n",
       "      <th></th>\n",
       "      <th>Row ID</th>\n",
       "      <th>Order ID</th>\n",
       "      <th>Order Date</th>\n",
       "      <th>Ship Date</th>\n",
       "      <th>Ship Mode</th>\n",
       "      <th>Customer ID</th>\n",
       "      <th>Customer Name</th>\n",
       "      <th>Segment</th>\n",
       "      <th>City</th>\n",
       "      <th>State</th>\n",
       "      <th>Country</th>\n",
       "      <th>Postal Code</th>\n",
       "      <th>Market</th>\n",
       "      <th>Region</th>\n",
       "      <th>Product ID</th>\n",
       "      <th>Category</th>\n",
       "      <th>Sub-Category</th>\n",
       "      <th>Product Name</th>\n",
       "      <th>Sales</th>\n",
       "      <th>Quantity</th>\n",
       "      <th>Discount</th>\n",
       "      <th>Profit</th>\n",
       "      <th>Shipping Cost</th>\n",
       "      <th>Order Priority</th>\n",
       "    </tr>\n",
       "  </thead>\n",
       "  <tbody>\n",
       "    <tr>\n",
       "      <th>51289</th>\n",
       "      <td>6147</td>\n",
       "      <td>MX-2012-134460</td>\n",
       "      <td>2012-05-22</td>\n",
       "      <td>2012-05-26</td>\n",
       "      <td>Second Class</td>\n",
       "      <td>MC-18100</td>\n",
       "      <td>Mick Crebagga</td>\n",
       "      <td>Consumer</td>\n",
       "      <td>Tipitapa</td>\n",
       "      <td>Managua</td>\n",
       "      <td>Nicaragua</td>\n",
       "      <td>NaN</td>\n",
       "      <td>LATAM</td>\n",
       "      <td>Central</td>\n",
       "      <td>OFF-PA-10004155</td>\n",
       "      <td>Office Supplies</td>\n",
       "      <td>Paper</td>\n",
       "      <td>Eaton Computer Printout Paper, 8.5 x 11</td>\n",
       "      <td>61.38</td>\n",
       "      <td>3</td>\n",
       "      <td>0.00</td>\n",
       "      <td>1.80</td>\n",
       "      <td>0.00</td>\n",
       "      <td>High</td>\n",
       "    </tr>\n",
       "  </tbody>\n",
       "</table>\n",
       "</div>"
      ],
      "text/plain": [
       "       Row ID        Order ID Order Date  Ship Date     Ship Mode Customer ID  \\\n",
       "51289    6147  MX-2012-134460 2012-05-22 2012-05-26  Second Class    MC-18100   \n",
       "\n",
       "       Customer Name   Segment      City    State    Country  Postal Code  \\\n",
       "51289  Mick Crebagga  Consumer  Tipitapa  Managua  Nicaragua          NaN   \n",
       "\n",
       "      Market   Region       Product ID         Category Sub-Category  \\\n",
       "51289  LATAM  Central  OFF-PA-10004155  Office Supplies        Paper   \n",
       "\n",
       "                                  Product Name  Sales  Quantity  Discount  \\\n",
       "51289  Eaton Computer Printout Paper, 8.5 x 11  61.38         3      0.00   \n",
       "\n",
       "       Profit  Shipping Cost Order Priority  \n",
       "51289    1.80           0.00           High  "
      ]
     },
     "metadata": {},
     "output_type": "display_data"
    },
    {
     "data": {
      "text/html": [
       "<div>\n",
       "<style scoped>\n",
       "    .dataframe tbody tr th:only-of-type {\n",
       "        vertical-align: middle;\n",
       "    }\n",
       "\n",
       "    .dataframe tbody tr th {\n",
       "        vertical-align: top;\n",
       "    }\n",
       "\n",
       "    .dataframe thead th {\n",
       "        text-align: right;\n",
       "    }\n",
       "</style>\n",
       "<table border=\"1\" class=\"dataframe\">\n",
       "  <thead>\n",
       "    <tr style=\"text-align: right;\">\n",
       "      <th></th>\n",
       "      <th>Returned</th>\n",
       "      <th>Order ID</th>\n",
       "      <th>Market</th>\n",
       "    </tr>\n",
       "  </thead>\n",
       "  <tbody>\n",
       "    <tr>\n",
       "      <th>1172</th>\n",
       "      <td>Yes</td>\n",
       "      <td>CA-2014-168193</td>\n",
       "      <td>United States</td>\n",
       "    </tr>\n",
       "  </tbody>\n",
       "</table>\n",
       "</div>"
      ],
      "text/plain": [
       "     Returned        Order ID         Market\n",
       "1172      Yes  CA-2014-168193  United States"
      ]
     },
     "metadata": {},
     "output_type": "display_data"
    },
    {
     "data": {
      "text/html": [
       "<div>\n",
       "<style scoped>\n",
       "    .dataframe tbody tr th:only-of-type {\n",
       "        vertical-align: middle;\n",
       "    }\n",
       "\n",
       "    .dataframe tbody tr th {\n",
       "        vertical-align: top;\n",
       "    }\n",
       "\n",
       "    .dataframe thead th {\n",
       "        text-align: right;\n",
       "    }\n",
       "</style>\n",
       "<table border=\"1\" class=\"dataframe\">\n",
       "  <thead>\n",
       "    <tr style=\"text-align: right;\">\n",
       "      <th></th>\n",
       "      <th>Person</th>\n",
       "      <th>Region</th>\n",
       "    </tr>\n",
       "  </thead>\n",
       "  <tbody>\n",
       "    <tr>\n",
       "      <th>12</th>\n",
       "      <td>Alejandro Ballentine</td>\n",
       "      <td>Southeast Asia</td>\n",
       "    </tr>\n",
       "  </tbody>\n",
       "</table>\n",
       "</div>"
      ],
      "text/plain": [
       "                  Person          Region\n",
       "12  Alejandro Ballentine  Southeast Asia"
      ]
     },
     "metadata": {},
     "output_type": "display_data"
    }
   ],
   "source": [
    "order_df = pd.read_excel(paths/'Global Superstore.xls',sheet_name='Orders')\n",
    "return_df = pd.read_excel(paths/'Global Superstore.xls',sheet_name='Returns')\n",
    "people_df = pd.read_excel(paths/'Global Superstore.xls',sheet_name='People')\n",
    "display(order_df.tail(1),\n",
    "    return_df.tail(1),\n",
    "    people_df.tail(1))"
   ]
  },
  {
   "cell_type": "code",
   "execution_count": 6,
   "id": "67b1a521",
   "metadata": {},
   "outputs": [
    {
     "data": {
      "text/plain": [
       "'Orders shape :'"
      ]
     },
     "metadata": {},
     "output_type": "display_data"
    },
    {
     "data": {
      "text/plain": [
       "(51290, 24)"
      ]
     },
     "metadata": {},
     "output_type": "display_data"
    },
    {
     "data": {
      "text/plain": [
       "'Returns shape'"
      ]
     },
     "metadata": {},
     "output_type": "display_data"
    },
    {
     "data": {
      "text/plain": [
       "(1173, 3)"
      ]
     },
     "metadata": {},
     "output_type": "display_data"
    },
    {
     "data": {
      "text/plain": [
       "'People shape'"
      ]
     },
     "metadata": {},
     "output_type": "display_data"
    },
    {
     "data": {
      "text/plain": [
       "(13, 2)"
      ]
     },
     "metadata": {},
     "output_type": "display_data"
    }
   ],
   "source": [
    "display('Orders shape :',order_df.shape, \n",
    "        'Returns shape', return_df.shape, \n",
    "        'People shape',people_df.shape)"
   ]
  },
  {
   "cell_type": "code",
   "execution_count": 7,
   "id": "6297e0c1",
   "metadata": {},
   "outputs": [],
   "source": [
    "# remove whitespaces from column names\n",
    "order_df.columns = order_df.columns.str.strip()\n",
    "return_df.columns = return_df.columns.str.strip()\n",
    "people_df.columns = people_df.columns.str.strip()"
   ]
  },
  {
   "cell_type": "code",
   "execution_count": 8,
   "id": "afdbba4a",
   "metadata": {},
   "outputs": [],
   "source": [
    "# Lets lower case all column names\n",
    "order_df.columns = map(lambda col: col.lower(), order_df.columns)\n",
    "return_df.columns = map(lambda col: col.lower(), return_df.columns)\n",
    "people_df.columns = map(lambda col: col.lower(), people_df.columns)"
   ]
  },
  {
   "cell_type": "code",
   "execution_count": 9,
   "id": "8137ae38",
   "metadata": {},
   "outputs": [
    {
     "data": {
      "text/plain": [
       "Index(['row id', 'order id', 'order date', 'ship date', 'ship mode',\n",
       "       'customer id', 'customer name', 'segment', 'city', 'state', 'country',\n",
       "       'postal code', 'market', 'region', 'product id', 'category',\n",
       "       'sub-category', 'product name', 'sales', 'quantity', 'discount',\n",
       "       'profit', 'shipping cost', 'order priority'],\n",
       "      dtype='object')"
      ]
     },
     "execution_count": 9,
     "metadata": {},
     "output_type": "execute_result"
    }
   ],
   "source": [
    "order_df.columns"
   ]
  },
  {
   "cell_type": "code",
   "execution_count": 10,
   "id": "65458db3",
   "metadata": {},
   "outputs": [
    {
     "name": "stdout",
     "output_type": "stream",
     "text": [
      "<class 'pandas.core.frame.DataFrame'>\n",
      "RangeIndex: 51290 entries, 0 to 51289\n",
      "Data columns (total 24 columns):\n",
      " #   Column          Non-Null Count  Dtype         \n",
      "---  ------          --------------  -----         \n",
      " 0   row id          51290 non-null  int64         \n",
      " 1   order id        51290 non-null  object        \n",
      " 2   order date      51290 non-null  datetime64[ns]\n",
      " 3   ship date       51290 non-null  datetime64[ns]\n",
      " 4   ship mode       51290 non-null  object        \n",
      " 5   customer id     51290 non-null  object        \n",
      " 6   customer name   51290 non-null  object        \n",
      " 7   segment         51290 non-null  object        \n",
      " 8   city            51290 non-null  object        \n",
      " 9   state           51290 non-null  object        \n",
      " 10  country         51290 non-null  object        \n",
      " 11  postal code     9994 non-null   float64       \n",
      " 12  market          51290 non-null  object        \n",
      " 13  region          51290 non-null  object        \n",
      " 14  product id      51290 non-null  object        \n",
      " 15  category        51290 non-null  object        \n",
      " 16  sub-category    51290 non-null  object        \n",
      " 17  product name    51290 non-null  object        \n",
      " 18  sales           51290 non-null  float64       \n",
      " 19  quantity        51290 non-null  int64         \n",
      " 20  discount        51290 non-null  float64       \n",
      " 21  profit          51290 non-null  float64       \n",
      " 22  shipping cost   51290 non-null  float64       \n",
      " 23  order priority  51290 non-null  object        \n",
      "dtypes: datetime64[ns](2), float64(5), int64(2), object(15)\n",
      "memory usage: 9.4+ MB\n"
     ]
    }
   ],
   "source": [
    "# lets check the data types of the columns\n",
    "order_df.info(verbose=True, show_counts=True)"
   ]
  },
  {
   "cell_type": "code",
   "execution_count": 11,
   "id": "3a6dad05",
   "metadata": {},
   "outputs": [
    {
     "name": "stdout",
     "output_type": "stream",
     "text": [
      "<class 'pandas.core.frame.DataFrame'>\n",
      "RangeIndex: 1173 entries, 0 to 1172\n",
      "Data columns (total 3 columns):\n",
      " #   Column    Non-Null Count  Dtype \n",
      "---  ------    --------------  ----- \n",
      " 0   returned  1173 non-null   object\n",
      " 1   order id  1173 non-null   object\n",
      " 2   market    1173 non-null   object\n",
      "dtypes: object(3)\n",
      "memory usage: 27.6+ KB\n"
     ]
    }
   ],
   "source": [
    "return_df.info(verbose=True, show_counts=True)"
   ]
  },
  {
   "cell_type": "code",
   "execution_count": 12,
   "id": "c33abee2",
   "metadata": {},
   "outputs": [
    {
     "name": "stdout",
     "output_type": "stream",
     "text": [
      "<class 'pandas.core.frame.DataFrame'>\n",
      "RangeIndex: 13 entries, 0 to 12\n",
      "Data columns (total 2 columns):\n",
      " #   Column  Non-Null Count  Dtype \n",
      "---  ------  --------------  ----- \n",
      " 0   person  13 non-null     object\n",
      " 1   region  13 non-null     object\n",
      "dtypes: object(2)\n",
      "memory usage: 340.0+ bytes\n"
     ]
    }
   ],
   "source": [
    "people_df.info(verbose=True, show_counts=True)"
   ]
  },
  {
   "cell_type": "markdown",
   "id": "bf0593af",
   "metadata": {},
   "source": [
    "**Dataset Summary**\n",
    "\n",
    "**The Global Superstore dataset contains three sheets: Orders, Returns and People.**\n",
    "    \n",
    "- **The Orders sheet contains information about customer orders, including order ID, customer ID, demographic details ,product details and sales data.**    \n",
    "- **The Returns sheet contains information about returned orders, including order ID and market details.**    \n",
    "- **The people sheet contains information about customers, including customer name and demographic details.**\n",
    "    \n",
    "**The data spans a robust four-year period from 2011 to 2015 . This dataset contains a vast array of order-related information, offering insights into retail operations across 147 countries.**\n"
   ]
  },
  {
   "cell_type": "code",
   "execution_count": 13,
   "id": "47f92e27",
   "metadata": {},
   "outputs": [
    {
     "data": {
      "text/plain": [
       "Index(['row id', 'order id', 'order date', 'ship date', 'ship mode',\n",
       "       'customer id', 'customer name', 'segment', 'city', 'state', 'country',\n",
       "       'postal code', 'market', 'region', 'product id', 'category',\n",
       "       'sub-category', 'product name', 'sales', 'quantity', 'discount',\n",
       "       'profit', 'shipping cost', 'order priority'],\n",
       "      dtype='object')"
      ]
     },
     "execution_count": 13,
     "metadata": {},
     "output_type": "execute_result"
    }
   ],
   "source": [
    "order_df.columns"
   ]
  },
  {
   "cell_type": "markdown",
   "id": "fa6b567b",
   "metadata": {},
   "source": [
    "Brief description of columns:\n",
    "\n",
    "- **Order ID**: Unique identifier for each order.\n",
    "\n",
    "- **Order Date**: The date when the order was placed. \n",
    "\n",
    "- **Ship Date**: The date when the order was shipped. \n",
    "\n",
    "- **Ship Mode**: The day order was shipped (e.g., First Class, Second Class, Standard Class, Same Day).\n",
    "\n",
    "- **Customer ID**: Unique identifier for each customer. \n",
    "\n",
    "- **Customer Name**: The name of the customer. \n",
    "\n",
    "- **Segment**: The business segment (e.g., Consumer, Corporate, Home Office). \n",
    "\n",
    "- **City**: The city where the order was placed.\n",
    "\n",
    "- **State**: The state where the order was placed.\n",
    "\n",
    "- **Country**: The country where the order was placed.\n",
    "\n",
    "- **Postal Code**: The postal code of the order's location.\n",
    "\n",
    "- **Market**: The region where the sale took place (e.g., APAC, EMEA). \n",
    "\n",
    "- **Region**: The specific geographical region (e.g., Central, East). \n",
    "\n",
    "- **Product ID**: Unique identifier for each product.\n",
    "\n",
    "- **Product Category**: The category of products (e.g., Furniture, Technology, Office Supplies). \n",
    "\n",
    "- **Product Sub-Category**: More specific product grouping (e.g., Chairs, Phones). \n",
    "\n",
    "- **Sales**: The total sales value of the order. \n",
    "\n",
    "- **Quantity**: Quantity of products sold. \n",
    "\n",
    "- **Discount**: Discount applied to the product. \n",
    "\n",
    "- **Profit**: The profit earned from the order. \n",
    "\n",
    "- **Shipping Cost**: The cost incurred to ship the product.\n",
    "\n"
   ]
  },
  {
   "cell_type": "markdown",
   "id": "6f3ae3cb",
   "metadata": {},
   "source": [
    "# Number Formatting and Consistency"
   ]
  },
  {
   "cell_type": "code",
   "execution_count": 15,
   "id": "4cc27bf9",
   "metadata": {},
   "outputs": [
    {
     "data": {
      "text/html": [
       "<div>\n",
       "<style scoped>\n",
       "    .dataframe tbody tr th:only-of-type {\n",
       "        vertical-align: middle;\n",
       "    }\n",
       "\n",
       "    .dataframe tbody tr th {\n",
       "        vertical-align: top;\n",
       "    }\n",
       "\n",
       "    .dataframe thead th {\n",
       "        text-align: right;\n",
       "    }\n",
       "</style>\n",
       "<table border=\"1\" class=\"dataframe\">\n",
       "  <thead>\n",
       "    <tr style=\"text-align: right;\">\n",
       "      <th></th>\n",
       "      <th>dtype</th>\n",
       "      <th>nunique</th>\n",
       "      <th>unique</th>\n",
       "    </tr>\n",
       "  </thead>\n",
       "  <tbody>\n",
       "    <tr>\n",
       "      <th>row id</th>\n",
       "      <td>int64</td>\n",
       "      <td>51290</td>\n",
       "      <td>[32298, 26341, 25330, 13524, 47221, 22732, 305...</td>\n",
       "    </tr>\n",
       "    <tr>\n",
       "      <th>order id</th>\n",
       "      <td>object</td>\n",
       "      <td>25035</td>\n",
       "      <td>[CA-2012-124891, IN-2013-77878, IN-2013-71249,...</td>\n",
       "    </tr>\n",
       "    <tr>\n",
       "      <th>order date</th>\n",
       "      <td>datetime64[ns]</td>\n",
       "      <td>1430</td>\n",
       "      <td>[2012-07-31 00:00:00, 2013-02-05 00:00:00, 201...</td>\n",
       "    </tr>\n",
       "    <tr>\n",
       "      <th>ship date</th>\n",
       "      <td>datetime64[ns]</td>\n",
       "      <td>1464</td>\n",
       "      <td>[2012-07-31 00:00:00, 2013-02-07 00:00:00, 201...</td>\n",
       "    </tr>\n",
       "    <tr>\n",
       "      <th>ship mode</th>\n",
       "      <td>object</td>\n",
       "      <td>4</td>\n",
       "      <td>[Same Day, Second Class, First Class, Standard...</td>\n",
       "    </tr>\n",
       "    <tr>\n",
       "      <th>customer id</th>\n",
       "      <td>object</td>\n",
       "      <td>1590</td>\n",
       "      <td>[RH-19495, JR-16210, CR-12730, KM-16375, RH-94...</td>\n",
       "    </tr>\n",
       "    <tr>\n",
       "      <th>customer name</th>\n",
       "      <td>object</td>\n",
       "      <td>795</td>\n",
       "      <td>[Rick Hansen, Justin Ritter, Craig Reiter, Kat...</td>\n",
       "    </tr>\n",
       "    <tr>\n",
       "      <th>segment</th>\n",
       "      <td>object</td>\n",
       "      <td>3</td>\n",
       "      <td>[Consumer, Corporate, Home Office]</td>\n",
       "    </tr>\n",
       "    <tr>\n",
       "      <th>city</th>\n",
       "      <td>object</td>\n",
       "      <td>3636</td>\n",
       "      <td>[New York City, Wollongong, Brisbane, Berlin, ...</td>\n",
       "    </tr>\n",
       "    <tr>\n",
       "      <th>state</th>\n",
       "      <td>object</td>\n",
       "      <td>1094</td>\n",
       "      <td>[New York, New South Wales, Queensland, Berlin...</td>\n",
       "    </tr>\n",
       "    <tr>\n",
       "      <th>country</th>\n",
       "      <td>object</td>\n",
       "      <td>147</td>\n",
       "      <td>[United States, Australia, Germany, Senegal, N...</td>\n",
       "    </tr>\n",
       "    <tr>\n",
       "      <th>postal code</th>\n",
       "      <td>float64</td>\n",
       "      <td>631</td>\n",
       "      <td>[10024.0, nan, 95823.0, 28027.0, 22304.0, 4242...</td>\n",
       "    </tr>\n",
       "    <tr>\n",
       "      <th>market</th>\n",
       "      <td>object</td>\n",
       "      <td>7</td>\n",
       "      <td>[US, APAC, EU, Africa, EMEA, LATAM, Canada]</td>\n",
       "    </tr>\n",
       "    <tr>\n",
       "      <th>region</th>\n",
       "      <td>object</td>\n",
       "      <td>13</td>\n",
       "      <td>[East, Oceania, Central, Africa, West, South, ...</td>\n",
       "    </tr>\n",
       "    <tr>\n",
       "      <th>product id</th>\n",
       "      <td>object</td>\n",
       "      <td>10292</td>\n",
       "      <td>[TEC-AC-10003033, FUR-CH-10003950, TEC-PH-1000...</td>\n",
       "    </tr>\n",
       "    <tr>\n",
       "      <th>category</th>\n",
       "      <td>object</td>\n",
       "      <td>3</td>\n",
       "      <td>[Technology, Furniture, Office Supplies]</td>\n",
       "    </tr>\n",
       "    <tr>\n",
       "      <th>sub-category</th>\n",
       "      <td>object</td>\n",
       "      <td>17</td>\n",
       "      <td>[Accessories, Chairs, Phones, Copiers, Tables,...</td>\n",
       "    </tr>\n",
       "    <tr>\n",
       "      <th>product name</th>\n",
       "      <td>object</td>\n",
       "      <td>3788</td>\n",
       "      <td>[Plantronics CS510 - Over-the-Head monaural Wi...</td>\n",
       "    </tr>\n",
       "    <tr>\n",
       "      <th>sales</th>\n",
       "      <td>float64</td>\n",
       "      <td>27200</td>\n",
       "      <td>[2309.65, 3709.3949999999995, 5175.17100000000...</td>\n",
       "    </tr>\n",
       "    <tr>\n",
       "      <th>quantity</th>\n",
       "      <td>int64</td>\n",
       "      <td>14</td>\n",
       "      <td>[7, 9, 5, 8, 4, 6, 13, 12, 14, 10, 2, 11, 3, 1]</td>\n",
       "    </tr>\n",
       "    <tr>\n",
       "      <th>discount</th>\n",
       "      <td>float64</td>\n",
       "      <td>29</td>\n",
       "      <td>[0.0, 0.1, 0.2, 0.4, 0.15, 0.3, 0.5, 0.17, 0.4...</td>\n",
       "    </tr>\n",
       "    <tr>\n",
       "      <th>profit</th>\n",
       "      <td>float64</td>\n",
       "      <td>28234</td>\n",
       "      <td>[762.1844999999998, -288.765, 919.970999999999...</td>\n",
       "    </tr>\n",
       "    <tr>\n",
       "      <th>shipping cost</th>\n",
       "      <td>float64</td>\n",
       "      <td>17095</td>\n",
       "      <td>[933.57, 923.63, 915.49, 910.16, 903.04, 897.3...</td>\n",
       "    </tr>\n",
       "    <tr>\n",
       "      <th>order priority</th>\n",
       "      <td>object</td>\n",
       "      <td>4</td>\n",
       "      <td>[Critical, Medium, High, Low]</td>\n",
       "    </tr>\n",
       "  </tbody>\n",
       "</table>\n",
       "</div>"
      ],
      "text/plain": [
       "                         dtype  nunique  \\\n",
       "row id                   int64    51290   \n",
       "order id                object    25035   \n",
       "order date      datetime64[ns]     1430   \n",
       "ship date       datetime64[ns]     1464   \n",
       "ship mode               object        4   \n",
       "customer id             object     1590   \n",
       "customer name           object      795   \n",
       "segment                 object        3   \n",
       "city                    object     3636   \n",
       "state                   object     1094   \n",
       "country                 object      147   \n",
       "postal code            float64      631   \n",
       "market                  object        7   \n",
       "region                  object       13   \n",
       "product id              object    10292   \n",
       "category                object        3   \n",
       "sub-category            object       17   \n",
       "product name            object     3788   \n",
       "sales                  float64    27200   \n",
       "quantity                 int64       14   \n",
       "discount               float64       29   \n",
       "profit                 float64    28234   \n",
       "shipping cost          float64    17095   \n",
       "order priority          object        4   \n",
       "\n",
       "                                                           unique  \n",
       "row id          [32298, 26341, 25330, 13524, 47221, 22732, 305...  \n",
       "order id        [CA-2012-124891, IN-2013-77878, IN-2013-71249,...  \n",
       "order date      [2012-07-31 00:00:00, 2013-02-05 00:00:00, 201...  \n",
       "ship date       [2012-07-31 00:00:00, 2013-02-07 00:00:00, 201...  \n",
       "ship mode       [Same Day, Second Class, First Class, Standard...  \n",
       "customer id     [RH-19495, JR-16210, CR-12730, KM-16375, RH-94...  \n",
       "customer name   [Rick Hansen, Justin Ritter, Craig Reiter, Kat...  \n",
       "segment                        [Consumer, Corporate, Home Office]  \n",
       "city            [New York City, Wollongong, Brisbane, Berlin, ...  \n",
       "state           [New York, New South Wales, Queensland, Berlin...  \n",
       "country         [United States, Australia, Germany, Senegal, N...  \n",
       "postal code     [10024.0, nan, 95823.0, 28027.0, 22304.0, 4242...  \n",
       "market                [US, APAC, EU, Africa, EMEA, LATAM, Canada]  \n",
       "region          [East, Oceania, Central, Africa, West, South, ...  \n",
       "product id      [TEC-AC-10003033, FUR-CH-10003950, TEC-PH-1000...  \n",
       "category                 [Technology, Furniture, Office Supplies]  \n",
       "sub-category    [Accessories, Chairs, Phones, Copiers, Tables,...  \n",
       "product name    [Plantronics CS510 - Over-the-Head monaural Wi...  \n",
       "sales           [2309.65, 3709.3949999999995, 5175.17100000000...  \n",
       "quantity          [7, 9, 5, 8, 4, 6, 13, 12, 14, 10, 2, 11, 3, 1]  \n",
       "discount        [0.0, 0.1, 0.2, 0.4, 0.15, 0.3, 0.5, 0.17, 0.4...  \n",
       "profit          [762.1844999999998, -288.765, 919.970999999999...  \n",
       "shipping cost   [933.57, 923.63, 915.49, 910.16, 903.04, 897.3...  \n",
       "order priority                      [Critical, Medium, High, Low]  "
      ]
     },
     "execution_count": 15,
     "metadata": {},
     "output_type": "execute_result"
    }
   ],
   "source": [
    "dtype_df = pd.DataFrame({\n",
    "    'dtype': order_df.dtypes,\n",
    "    'nunique': order_df.nunique(),\n",
    "    'unique' : [order_df[col].unique() for col in order_df.columns]\n",
    "}, index=order_df.columns)\n",
    "dtype_df"
   ]
  },
  {
   "cell_type": "code",
   "execution_count": null,
   "id": "e0e05609",
   "metadata": {},
   "outputs": [
    {
     "data": {
      "text/html": [
       "<div>\n",
       "<style scoped>\n",
       "    .dataframe tbody tr th:only-of-type {\n",
       "        vertical-align: middle;\n",
       "    }\n",
       "\n",
       "    .dataframe tbody tr th {\n",
       "        vertical-align: top;\n",
       "    }\n",
       "\n",
       "    .dataframe thead th {\n",
       "        text-align: right;\n",
       "    }\n",
       "</style>\n",
       "<table border=\"1\" class=\"dataframe\">\n",
       "  <thead>\n",
       "    <tr style=\"text-align: right;\">\n",
       "      <th></th>\n",
       "      <th>sales</th>\n",
       "      <th>profit</th>\n",
       "    </tr>\n",
       "  </thead>\n",
       "  <tbody>\n",
       "    <tr>\n",
       "      <th>0</th>\n",
       "      <td>2309.65</td>\n",
       "      <td>762.18</td>\n",
       "    </tr>\n",
       "    <tr>\n",
       "      <th>1</th>\n",
       "      <td>3709.39</td>\n",
       "      <td>-288.76</td>\n",
       "    </tr>\n",
       "    <tr>\n",
       "      <th>2</th>\n",
       "      <td>5175.17</td>\n",
       "      <td>919.97</td>\n",
       "    </tr>\n",
       "    <tr>\n",
       "      <th>3</th>\n",
       "      <td>2892.51</td>\n",
       "      <td>-96.54</td>\n",
       "    </tr>\n",
       "    <tr>\n",
       "      <th>4</th>\n",
       "      <td>2832.96</td>\n",
       "      <td>311.52</td>\n",
       "    </tr>\n",
       "  </tbody>\n",
       "</table>\n",
       "</div>"
      ],
      "text/plain": [
       "    sales  profit\n",
       "0 2309.65  762.18\n",
       "1 3709.39 -288.76\n",
       "2 5175.17  919.97\n",
       "3 2892.51  -96.54\n",
       "4 2832.96  311.52"
      ]
     },
     "execution_count": 16,
     "metadata": {},
     "output_type": "execute_result"
    }
   ],
   "source": []
  },
  {
   "cell_type": "code",
   "execution_count": null,
   "id": "3bc8a6e6",
   "metadata": {},
   "outputs": [],
   "source": []
  }
 ],
 "metadata": {
  "kernelspec": {
   "display_name": "test_titanic",
   "language": "python",
   "name": "python3"
  },
  "language_info": {
   "codemirror_mode": {
    "name": "ipython",
    "version": 3
   },
   "file_extension": ".py",
   "mimetype": "text/x-python",
   "name": "python",
   "nbconvert_exporter": "python",
   "pygments_lexer": "ipython3",
   "version": "3.12.4"
  }
 },
 "nbformat": 4,
 "nbformat_minor": 5
}
